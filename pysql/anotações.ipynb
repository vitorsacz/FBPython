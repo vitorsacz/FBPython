{
 "cells": [
  {
   "cell_type": "code",
   "execution_count": 4,
   "metadata": {},
   "outputs": [],
   "source": [
    "#instalando o ambiente virtual\n",
    "!python -m venv venv"
   ]
  },
  {
   "cell_type": "code",
   "execution_count": 16,
   "metadata": {},
   "outputs": [],
   "source": [
    "#comando para ativar o ambiente virtual \n",
    "# !cd ./venv/Scripts/activate"
   ]
  },
  {
   "cell_type": "code",
   "execution_count": null,
   "metadata": {},
   "outputs": [],
   "source": [
    "#instalando o pymysql no ambiente virtual\n",
    "!pip install pymysql"
   ]
  },
  {
   "cell_type": "code",
   "execution_count": 70,
   "metadata": {},
   "outputs": [
    {
     "ename": "ImportError",
     "evalue": "cannot import name 'BANCO' from 'chaves' (d:\\TÉCNICO\\ednilson\\FBPython\\pysql\\chaves.py)",
     "output_type": "error",
     "traceback": [
      "\u001b[1;31m---------------------------------------------------------------------------\u001b[0m",
      "\u001b[1;31mImportError\u001b[0m                               Traceback (most recent call last)",
      "Cell \u001b[1;32mIn[70], line 3\u001b[0m\n\u001b[0;32m      1\u001b[0m \u001b[38;5;28;01mimport\u001b[39;00m \u001b[38;5;21;01mpymysql\u001b[39;00m\n\u001b[0;32m      2\u001b[0m \u001b[38;5;28;01mimport\u001b[39;00m \u001b[38;5;21;01mos\u001b[39;00m \n\u001b[1;32m----> 3\u001b[0m \u001b[38;5;28;01mfrom\u001b[39;00m \u001b[38;5;21;01mchaves\u001b[39;00m \u001b[38;5;28;01mimport\u001b[39;00m USER, PASS, BANCO\n",
      "\u001b[1;31mImportError\u001b[0m: cannot import name 'BANCO' from 'chaves' (d:\\TÉCNICO\\ednilson\\FBPython\\pysql\\chaves.py)"
     ]
    }
   ],
   "source": [
    "\n",
    "import pymysql\n",
    "import os \n",
    "from chaves import USER, PASS, BANCO\n"
   ]
  },
  {
   "cell_type": "code",
   "execution_count": 20,
   "metadata": {},
   "outputs": [],
   "source": [
    "def limpa_tela():\n",
    "    os.system(\"cls\")"
   ]
  },
  {
   "cell_type": "code",
   "execution_count": 71,
   "metadata": {},
   "outputs": [
    {
     "ename": "NameError",
     "evalue": "name 'BANCO' is not defined",
     "output_type": "error",
     "traceback": [
      "\u001b[1;31m---------------------------------------------------------------------------\u001b[0m",
      "\u001b[1;31mNameError\u001b[0m                                 Traceback (most recent call last)",
      "Cell \u001b[1;32mIn[71], line 8\u001b[0m\n\u001b[0;32m      1\u001b[0m \u001b[38;5;66;03m# from chaves import USER, PASS, BANCO\u001b[39;00m\n\u001b[0;32m      2\u001b[0m \n\u001b[0;32m      3\u001b[0m \u001b[38;5;66;03m#criando uma conexão com o banco de dados\u001b[39;00m\n\u001b[0;32m      4\u001b[0m conexao \u001b[38;5;241m=\u001b[39m pymysql\u001b[38;5;241m.\u001b[39mconnect(\n\u001b[0;32m      5\u001b[0m     host\u001b[38;5;241m=\u001b[39m\u001b[38;5;124m'\u001b[39m\u001b[38;5;124mlocalhost\u001b[39m\u001b[38;5;124m'\u001b[39m,\n\u001b[0;32m      6\u001b[0m     user\u001b[38;5;241m=\u001b[39m USER,\n\u001b[0;32m      7\u001b[0m     password\u001b[38;5;241m=\u001b[39m  PASS,\n\u001b[1;32m----> 8\u001b[0m     database\u001b[38;5;241m=\u001b[39m \u001b[43mBANCO\u001b[49m\n\u001b[0;32m      9\u001b[0m )\n",
      "\u001b[1;31mNameError\u001b[0m: name 'BANCO' is not defined"
     ]
    }
   ],
   "source": [
    "# from chaves import USER, PASS, BANCO\n",
    "\n",
    "#criando uma conexão com o banco de dados\n",
    "conexao = pymysql.connect(\n",
    "    host='localhost',\n",
    "    user= USER,\n",
    "    password=  PASS,\n",
    "    database= BANCO\n",
    ")\n",
    "\n"
   ]
  },
  {
   "cell_type": "code",
   "execution_count": 42,
   "metadata": {},
   "outputs": [
    {
     "name": "stdout",
     "output_type": "stream",
     "text": [
      "((1, 'Epaminondas', 'epa@gmail.com', '11965478154', 'Epa é bão demais'),)\n"
     ]
    }
   ],
   "source": [
    "#criando um cursor\n",
    "cursor = conexao.cursor()\n",
    "\n",
    "#executa o cursor\n",
    "cursor.execute(\"SELECT * FROM usuarios\")\n",
    "\n",
    "#guardando os dados\n",
    "resultados = cursor.fetchall()\n",
    "\n",
    "print(resultados)\n",
    "\n",
    "#fechamento da conexão \n",
    "conexao.close()"
   ]
  },
  {
   "cell_type": "code",
   "execution_count": 57,
   "metadata": {},
   "outputs": [
    {
     "name": "stdout",
     "output_type": "stream",
     "text": [
      "((1, 'Epaminondas', 'epa@gmail.com', '11965478154', 'Epa é bão demais'), (7, 'Jonatinhas', 'shaolinmatadordeporco@gmail.com', '11653421568', 'Belo googler'))\n"
     ]
    }
   ],
   "source": [
    "\n",
    "dados = (\"Jonatinhas\", \"shaolinmatadordeporco@gmail.com\", \"11653421568\", \"Belo googler\")\n",
    "\n",
    "\n",
    "cursor = conexao.cursor()\n",
    "\n",
    "#executa o cursor\n",
    "cursor.execute(\"INSERT INTO usuarios(nome, email, telefone, mensagem) VALUES(%s, %s, %s, %s)\", dados)\n",
    "#salvando no banco\n",
    "conexao.commit()\n",
    "\n",
    "\n",
    "cursor.execute(\"SELECT * FROM usuarios\")\n",
    "\n",
    "\n",
    "#guardando os dados\n",
    "resultados = cursor.fetchall()\n",
    "\n",
    "print(resultados)\n",
    "\n",
    "\n",
    "#fechamento da conexão \n",
    "conexao.close()"
   ]
  },
  {
   "cell_type": "code",
   "execution_count": null,
   "metadata": {},
   "outputs": [],
   "source": []
  }
 ],
 "metadata": {
  "kernelspec": {
   "display_name": "Python 3",
   "language": "python",
   "name": "python3"
  },
  "language_info": {
   "codemirror_mode": {
    "name": "ipython",
    "version": 3
   },
   "file_extension": ".py",
   "mimetype": "text/x-python",
   "name": "python",
   "nbconvert_exporter": "python",
   "pygments_lexer": "ipython3",
   "version": "3.12.2"
  }
 },
 "nbformat": 4,
 "nbformat_minor": 2
}
